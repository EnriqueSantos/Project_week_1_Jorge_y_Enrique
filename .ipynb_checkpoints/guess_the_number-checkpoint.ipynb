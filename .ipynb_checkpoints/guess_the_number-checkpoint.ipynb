{
 "cells": [
  {
   "cell_type": "code",
   "execution_count": 1,
   "metadata": {},
   "outputs": [],
   "source": [
    "import random"
   ]
  },
  {
   "cell_type": "code",
   "execution_count": 6,
   "metadata": {},
   "outputs": [],
   "source": [
    "def check_level(sel_level):\n",
    "    levels = ['0','1','2']\n",
    "    if not(sel_level in levels):\n",
    "        sel_level = input('Elige un valor correcto para el nivel (0,1 o 2)')\n",
    "        check_level(sel_level)\n",
    "    else:        \n",
    "        if sel_level == '0':\n",
    "            print('Escoge un número del 1 al 100. Tienes 10 intentos')\n",
    "            niveles(0)\n",
    "        elif sel_level == '1':\n",
    "            print('Escoge un número del 1 al 100. Tienes 6 intentos')\n",
    "            niveles(1)\n",
    "        else:\n",
    "            print('Escoge un número del 1 al 100. Tienes 3 intentos')\n",
    "            niveles(2)\n",
    "\n",
    "def help_guess(guess,count,correct_guess):\n",
    "    if guess == correct_guess:\n",
    "        if count == 0:\n",
    "            print('Eres un master')\n",
    "        elif (count < 5):\n",
    "            print('Eres bueno adivinando')\n",
    "        else:\n",
    "            print('Adivinar no es lo tuyo, aprende más python')\n",
    "        return count + 1,1\n",
    "    elif guess > correct_guess:\n",
    "        print('El número es menor. Escoge uno más chico')\n",
    "        return count + 1,0\n",
    "    else:\n",
    "        print('El número es mayor. Escoge uno más grande')\n",
    "        return count + 1,0\n",
    "\"\"\"\n",
    "def nivel_0():\n",
    "    count = 0\n",
    "    random0 = random.randrange(1, 100)\n",
    "    acaba = 0\n",
    "    while count < 10 and acaba == 0:\n",
    "        num_escogido = int(input('Escoge un número: '))\n",
    "        count,acaba = help_guess(num_escogido, count, random0)\n",
    "        if acaba == 0 and count != 9:\n",
    "            print('Este fue tu intento número:', count)\n",
    "        \n",
    "\n",
    "def nivel_1():\n",
    "    count = 0\n",
    "    random0 = random.randrange(1, 100)\n",
    "    acaba = 0\n",
    "    while count < 6 and acaba == 0:\n",
    "        num_escogido = int(input('Escoge un número: '))\n",
    "        count,acaba = help_guess(num_escogido, count, random0)\n",
    "        if acaba == 0 and count != 5:\n",
    "            print('Este fue tu intento número:', count)\n",
    "        \n",
    "def nivel_2():\n",
    "    count = 0\n",
    "    random0 = random.randrange(1, 100)\n",
    "    acaba = 0\n",
    "    while count < 3 and acaba == 0:\n",
    "        num_escogido = int(input('Escoge un número: '))\n",
    "        count,acaba = help_guess(num_escogido, count, random0)\n",
    "        if acaba == 0 and count != 2:\n",
    "            print('Este fue tu intento número:', count)\n",
    "    if acaba == 0:\n",
    "        print('Perdiste, no sabes adivinar')\n",
    "\"\"\"     \n",
    "def niveles(n_nivel):\n",
    "    count = 0\n",
    "    acaba = 0\n",
    "    random0 = random.randrange(1,100)\n",
    "    if n_nivel == 0:\n",
    "        limit_tries = 10\n",
    "    elif n_nivel == 1:\n",
    "        limit_tries = 6\n",
    "    else:\n",
    "        limit_tries = 3\n",
    "    while count < limit_tries and acaba == 0:\n",
    "        num_escogido = int(input('Escoge un número: '))\n",
    "        count,acaba = help_guess(num_escogido, count, random0)\n",
    "        if acaba == 0 and count != 2:\n",
    "            print('Este fue tu intento número:', count)\n",
    "    if acaba == 0:\n",
    "        print('Perdiste, no sabes adivinar')\n",
    "    "
   ]
  },
  {
   "cell_type": "code",
   "execution_count": 7,
   "metadata": {},
   "outputs": [
    {
     "name": "stdout",
     "output_type": "stream",
     "text": [
      "¿Cuál es tu nombre?Enrique\n",
      "Bienvenido Enrique\n",
      "Escoge uno de los siguientes niveles: Principiante = 0, Intermedio = 1, Avanzado = 21\n",
      "Escoge un número del 1 al 100. Tienes 6 intentos\n",
      "Escoge un número: 50\n",
      "El número es mayor. Escoge uno más grande\n",
      "Este fue tu intento número: 1\n",
      "Escoge un número: 75\n",
      "El número es menor. Escoge uno más chico\n",
      "Escoge un número: 68\n",
      "El número es menor. Escoge uno más chico\n",
      "Este fue tu intento número: 3\n",
      "Escoge un número: 63\n",
      "El número es menor. Escoge uno más chico\n",
      "Este fue tu intento número: 4\n",
      "Escoge un número: 58\n",
      "El número es mayor. Escoge uno más grande\n",
      "Este fue tu intento número: 5\n",
      "Escoge un número: 60\n",
      "El número es menor. Escoge uno más chico\n",
      "Este fue tu intento número: 6\n",
      "Perdiste, no sabes adivinar\n"
     ]
    }
   ],
   "source": [
    "name = input('¿Cuál es tu nombre?')\n",
    "print(f'Bienvenido {name}')\n",
    "level = input('Escoge uno de los siguientes niveles: Principiante = 0, Intermedio = 1, Avanzado = 2')\n",
    "check_level(level)"
   ]
  },
  {
   "cell_type": "code",
   "execution_count": null,
   "metadata": {},
   "outputs": [],
   "source": [
    "\n"
   ]
  }
 ],
 "metadata": {
  "kernelspec": {
   "display_name": "Python 3",
   "language": "python",
   "name": "python3"
  },
  "language_info": {
   "codemirror_mode": {
    "name": "ipython",
    "version": 3
   },
   "file_extension": ".py",
   "mimetype": "text/x-python",
   "name": "python",
   "nbconvert_exporter": "python",
   "pygments_lexer": "ipython3",
   "version": "3.7.3"
  }
 },
 "nbformat": 4,
 "nbformat_minor": 2
}
