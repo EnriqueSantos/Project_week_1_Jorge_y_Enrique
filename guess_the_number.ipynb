{
 "cells": [
  {
   "cell_type": "code",
   "execution_count": 21,
   "metadata": {},
   "outputs": [],
   "source": [
    "import random\n",
    "\n",
    "def check_level(sel_level):\n",
    "    levels = ['0','1','2']\n",
    "    if not(sel_level in levels):\n",
    "        sel_level = input('Elige un valor correcto para el nivel (0,1 o 2)')\n",
    "        check_level(sel_level)\n",
    "    else:        \n",
    "        if sel_level == '0':\n",
    "            print('Escoge un número del 1 al 100. Tienes 10 intentos')\n",
    "            niveles(0)\n",
    "        elif sel_level == '1':\n",
    "            print('Escoge un número del 1 al 100. Tienes 6 intentos')\n",
    "            niveles(1)\n",
    "        else:\n",
    "            print('Escoge un número del 1 al 100. Tienes 3 intentos')\n",
    "            niveles(2)\n",
    "\n",
    "def help_guess(guess,count,correct_guess,limit):\n",
    "    if guess == correct_guess:\n",
    "        if count == 0:\n",
    "            print('Eres un master')\n",
    "        elif (count < 5):\n",
    "            print('¡Felicidades! Adivinaste mi número!')\n",
    "        else:\n",
    "            print('¡Lo has logrado pero adivinar no es lo tuyo, mejor invita las chelas!')\n",
    "        return count + 1,1\n",
    "    elif (guess > correct_guess and count < limit-1):\n",
    "        print('El número es menor. Escoge uno más chico')\n",
    "        return count + 1,0\n",
    "    elif (guess < correct_guess and count < limit-1):\n",
    "        print('El número es mayor. Escoge uno más grande')\n",
    "        return count + 1,0\n",
    "    else:\n",
    "        return count + 1,0\n",
    "    \n",
    "def niveles(n_nivel):\n",
    "    count = 0\n",
    "    acaba = 0\n",
    "    random0 = random.randrange(1,100)\n",
    "    if n_nivel == 0:\n",
    "        limit_tries = 10\n",
    "    elif n_nivel == 1:\n",
    "        limit_tries = 6\n",
    "    else:\n",
    "        limit_tries = 3\n",
    "    while count < limit_tries and acaba == 0:\n",
    "        num_escogido = int(input('Escoge un número: '))\n",
    "        count,acaba = help_guess(num_escogido, count, random0,limit_tries)\n",
    "        if (acaba == 0 and count < limit_tries):\n",
    "            print('Este fue tu intento número:', count,' Te quedan ',limit_tries - count)\n",
    "        elif (acaba == 0 and count == limit_tries):\n",
    "            print('Ese fue tu último intento')\n",
    "    if acaba == 0:\n",
    "        print('Perdiste, no sabes adivinar. \\n¡Debes las chelas!')"
   ]
  },
  {
   "cell_type": "code",
   "execution_count": 22,
   "metadata": {},
   "outputs": [
    {
     "name": "stdout",
     "output_type": "stream",
     "text": [
      "¿Cuál es tu nombre?jorge\n",
      "¡Bienvenido jorge! \n",
      "En este juego deberás adivinar el número en el que estoy pensando del 1 al 100. \n",
      "¡Ten cuidado! De no adivinar en el número de intentos permitido, pagarás las chelas :) \n",
      "Tienes 10 intentos para nivel principiante, 6 para nivel intermedio y 3 para nivel avanzado. \n",
      "¡Suerte!\n",
      "Escoge uno de los siguientes niveles: Principiante = 0, Intermedio = 1, Avanzado = 20\n",
      "Escoge un número del 1 al 100. Tienes 10 intentos\n",
      "Escoge un número: 59\n",
      "El número es mayor. Escoge uno más grande\n",
      "Este fue tu intento número: 1  Te quedan  9\n",
      "Escoge un número: 67\n",
      "El número es mayor. Escoge uno más grande\n",
      "Este fue tu intento número: 2  Te quedan  8\n",
      "Escoge un número: 87\n",
      "El número es menor. Escoge uno más chico\n",
      "Este fue tu intento número: 3  Te quedan  7\n",
      "Escoge un número: 77\n",
      "El número es menor. Escoge uno más chico\n",
      "Este fue tu intento número: 4  Te quedan  6\n",
      "Escoge un número: 73\n",
      "¡Felicidades! Adivinaste mi número!\n"
     ]
    }
   ],
   "source": [
    "name = input('¿Cuál es tu nombre?')\n",
    "bienvenida = '\\nEn este juego deberás adivinar el número en el que estoy pensando del 1 al 100. \\n¡Ten cuidado! De no adivinar en el número de intentos permitido, pagarás las chelas :) \\nTienes 10 intentos para nivel principiante, 6 para nivel intermedio y 3 para nivel avanzado. \\n¡Suerte!'\n",
    "print(f'¡Bienvenido {name}!', bienvenida)\n",
    "level = input('Escoge uno de los siguientes niveles: Principiante = 0, Intermedio = 1, Avanzado = 2')\n",
    "check_level(level)"
   ]
  },
  {
   "cell_type": "code",
   "execution_count": null,
   "metadata": {},
   "outputs": [],
   "source": [
    "\n"
   ]
  }
 ],
 "metadata": {
  "kernelspec": {
   "display_name": "Python 3",
   "language": "python",
   "name": "python3"
  }
 },
 "nbformat": 4,
 "nbformat_minor": 2
}
