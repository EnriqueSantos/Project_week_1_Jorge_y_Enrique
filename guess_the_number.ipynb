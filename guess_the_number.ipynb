{
 "cells": [
  {
   "cell_type": "code",
   "execution_count": 1,
   "metadata": {},
   "outputs": [],
   "source": [
    "import random"
   ]
  },
  {
   "cell_type": "code",
   "execution_count": 1,
   "metadata": {},
   "outputs": [],
   "source": [
    "def check_level(sel_level):\n",
    "    levels = ['0','1','2']\n",
    "    if not(sel_level in levels):\n",
    "        sel_level = input('Elige un valor correcto para el nivel (0,1 o 2)')\n",
    "        check_level(sel_level)\n",
    "    else:        \n",
    "        if sel_level == '0':\n",
    "            print('Escoge un número del 1 al 100. Tienes 10 intentos')\n",
    "            nivel_0()\n",
    "        elif sel_level == '1':\n",
    "            print('Escoge un número del 1 al 100. Tienes 6 intentos')\n",
    "            nivel_1()\n",
    "        else:\n",
    "            print('Escoge un número del 1 al 100. Tienes 3 intentos')\n",
    "            nivel_2()\n",
    "\n",
    "def help_guess(guess,count,correct_guess):\n",
    "    if guess == correct_guess:\n",
    "        if count == 0:\n",
    "            print('Eres un master')\n",
    "        elif (count < 5):\n",
    "            print('Eres bueno adivinando')\n",
    "        else:\n",
    "            print('Adivinar no es lo tuyo, aprende más python')\n",
    "        return count + 1,1\n",
    "    elif guess > correct_guess:\n",
    "        print('El número es menor. Escoge uno más chico')\n",
    "        return count + 1,0\n",
    "    else:\n",
    "        print('El número es mayor. Escoge uno más grande')\n",
    "        return count + 1,0\n",
    "\n",
    "def nivel_0():\n",
    "    count = 0\n",
    "    random0 = random.randrange(1, 100)\n",
    "    acaba = 0\n",
    "    while count < 10 and acaba == 0:\n",
    "        num_escogido = int(input('Escoge un número: '))\n",
    "        count,acaba = help_guess(num_escogido, count, random0)\n",
    "        print('Este fue tu intento número:', count)\n",
    "        \n",
    "\n",
    "def nivel_1():\n",
    "    count = 0\n",
    "    random0 = random.randrange(1, 100)\n",
    "    acaba = 0\n",
    "    while count < 6 and acaba == 0:\n",
    "        num_escogido = int(input('Escoge un número: '))\n",
    "        count,acaba = help_guess(num_escogido, count, random0)\n",
    "        print('Este fue tu intento número:', count)\n",
    "        \n",
    "def nivel_2():\n",
    "    count = 0\n",
    "    random0 = random.randrange(1, 100)\n",
    "    acaba = 0\n",
    "    while count < 3 and acaba == 0:\n",
    "        num_escogido = int(input('Escoge un número: '))\n",
    "        count,acaba = help_guess(num_escogido, count, random0)\n",
    "        print('Este fue tu intento número:', count)\n",
    "    if acaba == 0:\n",
    "        print('Perdiste, no sabes adivinar')"
   ]
  },
  {
   "cell_type": "code",
   "execution_count": 2,
   "metadata": {},
   "outputs": [
    {
     "name": "stdout",
     "output_type": "stream",
     "text": [
      "¿Cuál es tu nombre?Jorge\n",
      "Bienvenido Jorge\n",
      "Escoge uno de los siguientes niveles: Principiante = 0, Intermedio = 1, Avanzado = 22\n",
      "Escoge un número del 1 al 100. Tienes 3 intentos\n"
     ]
    },
    {
     "ename": "NameError",
     "evalue": "name 'random' is not defined",
     "output_type": "error",
     "traceback": [
      "\u001b[1;31m---------------------------------------------------------------------------\u001b[0m",
      "\u001b[1;31mNameError\u001b[0m                                 Traceback (most recent call last)",
      "\u001b[1;32m<ipython-input-2-c7593fc92246>\u001b[0m in \u001b[0;36m<module>\u001b[1;34m\u001b[0m\n\u001b[0;32m      2\u001b[0m \u001b[0mprint\u001b[0m\u001b[1;33m(\u001b[0m\u001b[1;34mf'Bienvenido {name}'\u001b[0m\u001b[1;33m)\u001b[0m\u001b[1;33m\u001b[0m\u001b[1;33m\u001b[0m\u001b[0m\n\u001b[0;32m      3\u001b[0m \u001b[0mlevel\u001b[0m \u001b[1;33m=\u001b[0m \u001b[0minput\u001b[0m\u001b[1;33m(\u001b[0m\u001b[1;34m'Escoge uno de los siguientes niveles: Principiante = 0, Intermedio = 1, Avanzado = 2'\u001b[0m\u001b[1;33m)\u001b[0m\u001b[1;33m\u001b[0m\u001b[1;33m\u001b[0m\u001b[0m\n\u001b[1;32m----> 4\u001b[1;33m \u001b[0mcheck_level\u001b[0m\u001b[1;33m(\u001b[0m\u001b[0mlevel\u001b[0m\u001b[1;33m)\u001b[0m\u001b[1;33m\u001b[0m\u001b[1;33m\u001b[0m\u001b[0m\n\u001b[0m",
      "\u001b[1;32m<ipython-input-1-8d4cc49df854>\u001b[0m in \u001b[0;36mcheck_level\u001b[1;34m(sel_level)\u001b[0m\n\u001b[0;32m     13\u001b[0m         \u001b[1;32melse\u001b[0m\u001b[1;33m:\u001b[0m\u001b[1;33m\u001b[0m\u001b[1;33m\u001b[0m\u001b[0m\n\u001b[0;32m     14\u001b[0m             \u001b[0mprint\u001b[0m\u001b[1;33m(\u001b[0m\u001b[1;34m'Escoge un número del 1 al 100. Tienes 3 intentos'\u001b[0m\u001b[1;33m)\u001b[0m\u001b[1;33m\u001b[0m\u001b[1;33m\u001b[0m\u001b[0m\n\u001b[1;32m---> 15\u001b[1;33m             \u001b[0mnivel_2\u001b[0m\u001b[1;33m(\u001b[0m\u001b[1;33m)\u001b[0m\u001b[1;33m\u001b[0m\u001b[1;33m\u001b[0m\u001b[0m\n\u001b[0m\u001b[0;32m     16\u001b[0m \u001b[1;33m\u001b[0m\u001b[0m\n\u001b[0;32m     17\u001b[0m \u001b[1;32mdef\u001b[0m \u001b[0mhelp_guess\u001b[0m\u001b[1;33m(\u001b[0m\u001b[0mguess\u001b[0m\u001b[1;33m,\u001b[0m\u001b[0mcount\u001b[0m\u001b[1;33m,\u001b[0m\u001b[0mcorrect_guess\u001b[0m\u001b[1;33m)\u001b[0m\u001b[1;33m:\u001b[0m\u001b[1;33m\u001b[0m\u001b[1;33m\u001b[0m\u001b[0m\n",
      "\u001b[1;32m<ipython-input-1-8d4cc49df854>\u001b[0m in \u001b[0;36mnivel_2\u001b[1;34m()\u001b[0m\n\u001b[0;32m     52\u001b[0m \u001b[1;32mdef\u001b[0m \u001b[0mnivel_2\u001b[0m\u001b[1;33m(\u001b[0m\u001b[1;33m)\u001b[0m\u001b[1;33m:\u001b[0m\u001b[1;33m\u001b[0m\u001b[1;33m\u001b[0m\u001b[0m\n\u001b[0;32m     53\u001b[0m     \u001b[0mcount\u001b[0m \u001b[1;33m=\u001b[0m \u001b[1;36m0\u001b[0m\u001b[1;33m\u001b[0m\u001b[1;33m\u001b[0m\u001b[0m\n\u001b[1;32m---> 54\u001b[1;33m     \u001b[0mrandom0\u001b[0m \u001b[1;33m=\u001b[0m \u001b[0mrandom\u001b[0m\u001b[1;33m.\u001b[0m\u001b[0mrandrange\u001b[0m\u001b[1;33m(\u001b[0m\u001b[1;36m1\u001b[0m\u001b[1;33m,\u001b[0m \u001b[1;36m100\u001b[0m\u001b[1;33m)\u001b[0m\u001b[1;33m\u001b[0m\u001b[1;33m\u001b[0m\u001b[0m\n\u001b[0m\u001b[0;32m     55\u001b[0m     \u001b[0macaba\u001b[0m \u001b[1;33m=\u001b[0m \u001b[1;36m0\u001b[0m\u001b[1;33m\u001b[0m\u001b[1;33m\u001b[0m\u001b[0m\n\u001b[0;32m     56\u001b[0m     \u001b[1;32mwhile\u001b[0m \u001b[0mcount\u001b[0m \u001b[1;33m<\u001b[0m \u001b[1;36m3\u001b[0m \u001b[1;32mand\u001b[0m \u001b[0macaba\u001b[0m \u001b[1;33m==\u001b[0m \u001b[1;36m0\u001b[0m\u001b[1;33m:\u001b[0m\u001b[1;33m\u001b[0m\u001b[1;33m\u001b[0m\u001b[0m\n",
      "\u001b[1;31mNameError\u001b[0m: name 'random' is not defined"
     ]
    }
   ],
   "source": [
    "name = input('¿Cuál es tu nombre?')\n",
    "print(f'Bienvenido {name}')\n",
    "level = input('Escoge uno de los siguientes niveles: Principiante = 0, Intermedio = 1, Avanzado = 2')\n",
    "check_level(level)"
   ]
  },
  {
   "cell_type": "code",
   "execution_count": null,
   "metadata": {},
   "outputs": [],
   "source": [
    "\n"
   ]
  }
 ],
 "metadata": {
  "kernelspec": {
   "display_name": "Python 3",
   "language": "python",
   "name": "python3"
  },
  "language_info": {
   "codemirror_mode": {
    "name": "ipython",
    "version": 3
   },
   "file_extension": ".py",
   "mimetype": "text/x-python",
   "name": "python",
   "nbconvert_exporter": "python",
   "pygments_lexer": "ipython3",
   "version": "3.7.3"
  }
 },
 "nbformat": 4,
 "nbformat_minor": 2
}
